{
 "cells": [
  {
   "cell_type": "markdown",
   "id": "320f93ac-5965-44a4-8d20-40b8944a60a5",
   "metadata": {},
   "source": [
    "# LCSS Example\n",
    "\n",
    "An example of using the LCSSMatcher to match a gps trace to the Open Street Maps road network"
   ]
  },
  {
   "cell_type": "code",
   "execution_count": 1,
   "id": "dbf22ede-f3b6-4940-b866-15263b8eeaff",
   "metadata": {},
   "outputs": [],
   "source": [
    "from mappymatch import package_root"
   ]
  },
  {
   "cell_type": "markdown",
   "id": "fcbd7d7d-91fc-4bbe-849f-b91b4d919c6f",
   "metadata": {},
   "source": [
    "First, we load the trace from a file. \n",
    "The mappymatch package has a few sample traces included that we can use for demonstration.\n",
    "\n",
    "Before we build the trace, though, let's take a look at the file to see how mappymatch expects the input data:"
   ]
  },
  {
   "cell_type": "code",
   "execution_count": 2,
   "id": "a626d87a-382e-4d04-9e02-886f3a168701",
   "metadata": {},
   "outputs": [
    {
     "data": {
      "text/html": [
       "<div>\n",
       "<style scoped>\n",
       "    .dataframe tbody tr th:only-of-type {\n",
       "        vertical-align: middle;\n",
       "    }\n",
       "\n",
       "    .dataframe tbody tr th {\n",
       "        vertical-align: top;\n",
       "    }\n",
       "\n",
       "    .dataframe thead th {\n",
       "        text-align: right;\n",
       "    }\n",
       "</style>\n",
       "<table border=\"1\" class=\"dataframe\">\n",
       "  <thead>\n",
       "    <tr style=\"text-align: right;\">\n",
       "      <th></th>\n",
       "      <th>latitude</th>\n",
       "      <th>longitude</th>\n",
       "    </tr>\n",
       "  </thead>\n",
       "  <tbody>\n",
       "    <tr>\n",
       "      <th>0</th>\n",
       "      <td>39.655210</td>\n",
       "      <td>-104.919169</td>\n",
       "    </tr>\n",
       "    <tr>\n",
       "      <th>1</th>\n",
       "      <td>39.655449</td>\n",
       "      <td>-104.919274</td>\n",
       "    </tr>\n",
       "    <tr>\n",
       "      <th>2</th>\n",
       "      <td>39.655690</td>\n",
       "      <td>-104.919381</td>\n",
       "    </tr>\n",
       "    <tr>\n",
       "      <th>3</th>\n",
       "      <td>39.655936</td>\n",
       "      <td>-104.919486</td>\n",
       "    </tr>\n",
       "    <tr>\n",
       "      <th>4</th>\n",
       "      <td>39.656182</td>\n",
       "      <td>-104.919593</td>\n",
       "    </tr>\n",
       "  </tbody>\n",
       "</table>\n",
       "</div>"
      ],
      "text/plain": [
       "    latitude   longitude\n",
       "0  39.655210 -104.919169\n",
       "1  39.655449 -104.919274\n",
       "2  39.655690 -104.919381\n",
       "3  39.655936 -104.919486\n",
       "4  39.656182 -104.919593"
      ]
     },
     "execution_count": 2,
     "metadata": {},
     "output_type": "execute_result"
    }
   ],
   "source": [
    "import pandas as pd\n",
    "\n",
    "df = pd.read_csv(package_root() / \"resources/traces/sample_trace_3.csv\")\n",
    "df.head()"
   ]
  },
  {
   "cell_type": "markdown",
   "id": "cd2ba449-3b1b-44ea-be6a-a11a12cca1a7",
   "metadata": {},
   "source": [
    "Notice that we expect the input data to be in the EPSG:4326 coordinate reference system. \n",
    "If your input data is not in this format, you'll need to convert it prior to building a Trace object.\n",
    "\n",
    "In order to idenfiy which coordinate is which in a trace, mappymatch uses the dataframe index as the coordinate index and so in this case, we just have a simple range based index for each coordinate.\n",
    "We could set a different index on the dataframe and mappymatch would use that to identify the coordinates.\n",
    "\n",
    "Now, let's load the trace from the same file:"
   ]
  },
  {
   "cell_type": "code",
   "execution_count": 3,
   "id": "278d868d-1095-427b-a6ef-55db76f9353c",
   "metadata": {},
   "outputs": [],
   "source": [
    "from mappymatch.constructs.trace import Trace\n",
    "\n",
    "trace = Trace.from_csv(\n",
    "    package_root() / \"resources/traces/sample_trace_3.csv\",\n",
    "    lat_column=\"latitude\",\n",
    "    lon_column=\"longitude\",\n",
    "    xy=True,\n",
    ")"
   ]
  },
  {
   "cell_type": "markdown",
   "id": "d5791707-491f-4c16-b5a9-51147a6ec896",
   "metadata": {},
   "source": [
    "Notice here that we pass three optional arguments to the `from_csv` function. \n",
    "By default, mappymatch expects the latitude and longitude columns to be named \"latitude\" and \"longitude\" but you can pass your own values if needed.\n",
    "Also by default, mappymatch converts the trace into the web mercator coordinate reference system (EPSG:3857) by setting `xy=True`.\n",
    "The LCSS matcher computes the cartesian distance between geometries and so a projected coordiante reference system is ideal.\n",
    "In a future version of mappymatch we hope to support any projected coordiante system but right now we only support EPSG:3857.\n",
    "\n",
    "Okay, let's plot the trace to see what it looks like (mappymatch uses folium under the hood for plotting):"
   ]
  },
  {
   "cell_type": "code",
   "execution_count": null,
   "id": "4e1284f1-ef05-4732-9b20-891c444d5c68",
   "metadata": {},
   "outputs": [],
   "source": [
    "from mappymatch.utils.plot import plot_trace\n",
    "\n",
    "plot_trace(trace, point_color=\"black\", line_color=\"yellow\")"
   ]
  },
  {
   "cell_type": "markdown",
   "id": "a54fd4fa-974b-4e96-8224-b90e31ffdd37",
   "metadata": {},
   "source": [
    "Next, we need to get a road map to match our Trace to.\n",
    "One way to do this is to build a small geofence around the trace and then download a map that just fits around our trace:"
   ]
  },
  {
   "cell_type": "code",
   "execution_count": null,
   "id": "cc5f7cb1-8f01-45b3-8216-59d7fd7f1f22",
   "metadata": {},
   "outputs": [],
   "source": [
    "from mappymatch.constructs.geofence import Geofence\n",
    "\n",
    "geofence = Geofence.from_trace(trace, padding=2e3)"
   ]
  },
  {
   "cell_type": "markdown",
   "id": "c581bf51-878b-4968-991c-de77becea543",
   "metadata": {},
   "source": [
    "Notice that we pass an optional argument to the constructor.\n",
    "The padding defines how large around the trace we should build our geofence and is in the same units as the trace.\n",
    "In our case, the trace has been projected to the web mercator CRS and so our units would be in approximate meters, 1e3 meters or 1 kilomter \n",
    "\n",
    "Now, let's plot both the trace and the geofence:"
   ]
  },
  {
   "cell_type": "code",
   "execution_count": null,
   "id": "0e8008c3-01ec-42be-b62e-730cfc35e995",
   "metadata": {},
   "outputs": [],
   "source": [
    "from mappymatch.utils.plot import plot_geofence\n",
    "\n",
    "plot_trace(trace, point_color=\"black\", m=plot_geofence(geofence))"
   ]
  },
  {
   "cell_type": "markdown",
   "id": "c294fc6c-4ad3-4f2a-a819-5772c887a65e",
   "metadata": {},
   "source": [
    "At this point, we're ready to download a road network.\n",
    "Mappymatch has a couple of ways to represent a road network: The `NxMap` and the `IGraphMap` which use `networkx` and `igraph`, respectively, under the hood to represent the road graph structure.\n",
    "You might experiment with both to see if one is more performant or memory efficient in your use case.\n",
    "\n",
    "In this example we'll use the `NxMap`:"
   ]
  },
  {
   "cell_type": "code",
   "execution_count": null,
   "id": "1259d790-758b-413c-8ab1-19106ee5b3c8",
   "metadata": {},
   "outputs": [],
   "source": [
    "from mappymatch.maps.nx.nx_map import NxMap, NetworkType\n",
    "\n",
    "nx_map = NxMap.from_geofence(\n",
    "    geofence,\n",
    "    network_type=NetworkType.DRIVE,\n",
    ")"
   ]
  },
  {
   "cell_type": "markdown",
   "id": "7388a8a5-4396-4c95-bc23-aeb8c057d57a",
   "metadata": {},
   "source": [
    "The `from_geofence` constructor uses the osmnx package under the hood to download a road network.\n",
    "\n",
    "Notice we pass the optional argument `network_type` which defaults to `NetworkType.DRIVE` but can be used to get a different network like `NetworkType.BIKE` or `NetworkType.WALK`\n",
    "\n",
    "Now, we can plot the map to make sure we have the network that we want to match to:"
   ]
  },
  {
   "cell_type": "code",
   "execution_count": null,
   "id": "6dd7f2f8-9407-418c-912d-723cf7672624",
   "metadata": {},
   "outputs": [],
   "source": [
    "from mappymatch.utils.plot import plot_map\n",
    "\n",
    "plot_map(nx_map)"
   ]
  },
  {
   "cell_type": "markdown",
   "id": "3e3e4926-7e63-4098-986a-605aa772a9d8",
   "metadata": {},
   "source": [
    "Now, we're ready to perform the actual map matching. \n",
    "\n",
    "In this example we'll use the `LCSSMatcher` which implements the algorithm described in this paper:\n",
    "\n",
    "[Zhu, Lei, Jacob R. Holden, and Jeffrey D. Gonder.\n",
    "\"Trajectory Segmentation Map-Matching Approach for Large-Scale, High-Resolution GPS Data.\"\n",
    "Transportation Research Record: Journal of the Transportation Research Board 2645 (2017): 67-75.](https://doi.org/10.3141%2F2645-08)\n",
    "\n",
    "We won't go into detail here for how to tune the paramters but checkout the referenced paper for more details if you're interested. \n",
    "The default parameters have been set based on internal testing on high resolution driving GPS traces. "
   ]
  },
  {
   "cell_type": "code",
   "execution_count": null,
   "id": "272e5779-5b3b-4862-9d5e-850866758554",
   "metadata": {},
   "outputs": [],
   "source": [
    "from mappymatch.matchers.lcss.lcss import LCSSMatcher\n",
    "\n",
    "matcher = LCSSMatcher(nx_map)\n",
    "\n",
    "match_result = matcher.match_trace(trace)"
   ]
  },
  {
   "cell_type": "markdown",
   "id": "64ab014b-3084-48a0-a89a-d579ca296dc6",
   "metadata": {},
   "source": [
    "Now that we have the results, let's plot them:"
   ]
  },
  {
   "cell_type": "code",
   "execution_count": null,
   "id": "5dcdab12-0592-472e-bd7d-b00add9d8533",
   "metadata": {},
   "outputs": [],
   "source": [
    "from mappymatch.utils.plot import plot_matches\n",
    "\n",
    "plot_matches(match_result.matches)"
   ]
  },
  {
   "cell_type": "code",
   "execution_count": null,
   "id": "1e470152-4b65-4844-a014-b922c5cbd8f8",
   "metadata": {},
   "outputs": [],
   "source": [
    "match_result.path_to_geodataframe().plot()"
   ]
  },
  {
   "cell_type": "code",
   "execution_count": null,
   "id": "5f7e52f4-b52a-4788-a990-f603378ea090",
   "metadata": {},
   "outputs": [],
   "source": []
  },
  {
   "cell_type": "markdown",
   "id": "d9ac54eb-d5e0-45db-a90d-cf42906a3bc6",
   "metadata": {},
   "source": [
    "The `plot_matches` function plots the roads that each point has been matched to and labels them with the road id.\n",
    "\n",
    "In some cases, if the trace is much sparser (for example if it was collected a lower resolution), you might want see the estimated path, rather than the explict matched roads.\n",
    "\n",
    "For example, let's reduce the trace frequency to every 30th point and re-match it:"
   ]
  },
  {
   "cell_type": "code",
   "execution_count": null,
   "id": "70d10607-71f6-4706-878a-8ab7332f7543",
   "metadata": {},
   "outputs": [],
   "source": [
    "reduced_trace = trace[0::30]"
   ]
  },
  {
   "cell_type": "code",
   "execution_count": null,
   "id": "3668f51e-da5e-485a-8d8b-e2f76fd1c173",
   "metadata": {},
   "outputs": [],
   "source": [
    "plot_trace(reduced_trace, point_color=\"black\", line_color=\"yellow\")"
   ]
  },
  {
   "cell_type": "code",
   "execution_count": null,
   "id": "b203d89a-3384-4fcb-81ff-dc62f34277d0",
   "metadata": {},
   "outputs": [],
   "source": [
    "reduced_matches = matcher.match_trace(reduced_trace)"
   ]
  },
  {
   "cell_type": "code",
   "execution_count": null,
   "id": "f56f70f8-7732-4801-af04-bffce4176853",
   "metadata": {},
   "outputs": [],
   "source": [
    "plot_matches(reduced_matches.matches)"
   ]
  },
  {
   "cell_type": "markdown",
   "id": "a4d7ac4f-d822-491a-9a1d-77cd42f0a7d7",
   "metadata": {},
   "source": [
    "The match result also has a `path` attribute with the estiamted path through the network:"
   ]
  },
  {
   "cell_type": "code",
   "execution_count": null,
   "id": "6c389db6-427f-4b91-8857-06d36ea51809",
   "metadata": {},
   "outputs": [],
   "source": [
    "from mappymatch.utils.plot import plot_path"
   ]
  },
  {
   "cell_type": "code",
   "execution_count": null,
   "id": "a8e63658-1de5-4313-b5c3-989afa0c5951",
   "metadata": {},
   "outputs": [],
   "source": [
    "plot_trace(\n",
    "    reduced_trace, point_color=\"blue\", m=plot_path(reduced_matches.path, crs=trace.crs)\n",
    ")"
   ]
  },
  {
   "cell_type": "markdown",
   "id": "fdc744b4-9399-4a64-a0f9-a02791aaf859",
   "metadata": {},
   "source": [
    "Lastly, we might want to convert the results into a format more suitible for saving to file or merging with some other dataset. \n",
    "To do this, we can convert the result into a dataframe:"
   ]
  },
  {
   "cell_type": "code",
   "execution_count": null,
   "id": "456d58c4-d507-461d-be9d-75b80341a406",
   "metadata": {},
   "outputs": [],
   "source": [
    "result_df = reduced_matches.matches_to_dataframe()\n",
    "result_df.head()"
   ]
  },
  {
   "cell_type": "markdown",
   "id": "de20d601-aab6-4cab-ac98-3b25b8b433e1",
   "metadata": {},
   "source": [
    "Here, for each coordinate, we have the distance to the matched road, and then attributes of the road itself like the geometry, the OSM node id and the road distance and travel time.\n",
    "\n",
    "We can also get a dataframe for the path:"
   ]
  },
  {
   "cell_type": "code",
   "execution_count": null,
   "id": "e4bf8cf9-83a7-4347-9c7c-164ff0fe4413",
   "metadata": {},
   "outputs": [],
   "source": [
    "path_df = reduced_matches.path_to_dataframe()\n",
    "path_df.head()"
   ]
  },
  {
   "cell_type": "markdown",
   "id": "1e38cdb0-0028-4c23-88a0-e6fdafe295ce",
   "metadata": {},
   "source": [
    "Another thing we can do is to only get a certain set of road types to match to. For example, let's say I only want to consider highways and primary roads for matching, I can do so by passing a custom filter when building the road network: "
   ]
  },
  {
   "cell_type": "code",
   "execution_count": null,
   "id": "57168d3b-c9d0-47ae-9a84-a405b31ddf73",
   "metadata": {},
   "outputs": [],
   "source": [
    "nx_map = NxMap.from_geofence(\n",
    "    geofence,\n",
    "    network_type=NetworkType.DRIVE,\n",
    "    custom_filter='[\"highway\"~\"motorway|primary\"]',\n",
    ")"
   ]
  },
  {
   "cell_type": "code",
   "execution_count": null,
   "id": "faea5546-bda5-4642-9b75-26692efce16a",
   "metadata": {},
   "outputs": [],
   "source": [
    "plot_map(nx_map)"
   ]
  },
  {
   "cell_type": "markdown",
   "id": "04f39101-11cc-4cd5-92de-5b1f191de3b4",
   "metadata": {},
   "source": [
    "Above you can see that now we have a much reduced graph to match to, let's see what happens"
   ]
  },
  {
   "cell_type": "code",
   "execution_count": null,
   "id": "35436094-897b-4537-b161-73eadd294625",
   "metadata": {},
   "outputs": [],
   "source": [
    "matcher = LCSSMatcher(nx_map)\n",
    "\n",
    "match_result = matcher.match_trace(trace)\n",
    "\n",
    "plot_matches(match_result.matches)"
   ]
  },
  {
   "cell_type": "code",
   "execution_count": null,
   "id": "820813b6-dba1-4a1c-aa37-fcba0deb20f1",
   "metadata": {},
   "outputs": [],
   "source": [
    "plot_path(match_result.path, crs=trace.crs)"
   ]
  },
  {
   "cell_type": "code",
   "execution_count": null,
   "id": "2137e503-0b00-4358-a1c8-be34ab6d10eb",
   "metadata": {},
   "outputs": [],
   "source": [
    "path_gdf = match_result.path_to_geodataframe()"
   ]
  },
  {
   "cell_type": "code",
   "execution_count": null,
   "id": "a5b3a413-7325-4629-89ad-664aab4ece10",
   "metadata": {},
   "outputs": [],
   "source": [
    "path_gdf.plot()"
   ]
  },
  {
   "cell_type": "code",
   "execution_count": null,
   "id": "2731f4d7-a9df-455f-859a-f22e48e40f37",
   "metadata": {},
   "outputs": [],
   "source": []
  }
 ],
 "metadata": {
  "kernelspec": {
   "display_name": "Python 3 (ipykernel)",
   "language": "python",
   "name": "python3"
  },
  "language_info": {
   "codemirror_mode": {
    "name": "ipython",
    "version": 3
   },
   "file_extension": ".py",
   "mimetype": "text/x-python",
   "name": "python",
   "nbconvert_exporter": "python",
   "pygments_lexer": "ipython3",
   "version": "3.12.7"
  }
 },
 "nbformat": 4,
 "nbformat_minor": 5
}
